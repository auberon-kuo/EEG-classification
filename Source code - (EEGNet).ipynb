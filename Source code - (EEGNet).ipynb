{
 "cells": [
  {
   "cell_type": "code",
   "execution_count": 1,
   "metadata": {},
   "outputs": [],
   "source": [
    "import numpy as np\n",
    "from sklearn.metrics import roc_auc_score, precision_score, recall_score, accuracy_score\n",
    "import torch\n",
    "import torch.nn as nn\n",
    "import torch.optim as optim\n",
    "from torch.autograd import Variable\n",
    "import torch.nn.functional as F\n",
    "import torch.optim as optim"
   ]
  },
  {
   "cell_type": "markdown",
   "metadata": {},
   "source": [
    "# 讀取資料"
   ]
  },
  {
   "cell_type": "code",
   "execution_count": 2,
   "metadata": {},
   "outputs": [],
   "source": [
    "S4b_train = np.load('S4b_train.npz')\n",
    "X11b_train = np.load('X11b_train.npz')\n",
    "S4b_test = np.load('S4b_test.npz')\n",
    "X11b_test = np.load('X11b_test.npz')\n",
    "\n",
    "train_data = np.concatenate((S4b_train['signal'], X11b_train['signal']), axis=0)\n",
    "train_label = np.concatenate((S4b_train['label'], X11b_train['label']), axis=0)\n",
    "test_data = np.concatenate((S4b_test['signal'], X11b_test['signal']), axis=0)\n",
    "test_label = np.concatenate((S4b_test['label'], X11b_test['label']), axis=0)\n",
    "\n",
    "train_label = train_label - 1\n",
    "test_label = test_label -1\n",
    "train_data = np.transpose(np.expand_dims(train_data, axis=1), (0, 1, 3, 2))\n",
    "test_data = np.transpose(np.expand_dims(test_data, axis=1), (0, 1, 3, 2))\n",
    "\n",
    "mask = np.where(np.isnan(train_data))\n",
    "train_data[mask] = np.nanmean(train_data)\n",
    "\n",
    "mask = np.where(np.isnan(test_data))\n",
    "test_data[mask] = np.nanmean(test_data)"
   ]
  },
  {
   "cell_type": "code",
   "execution_count": 3,
   "metadata": {},
   "outputs": [],
   "source": [
    "X_train = torch.from_numpy(train_data).float()\n",
    "y_train = torch.from_numpy(train_label).float()\n",
    "\n",
    "X_test = torch.from_numpy(test_data).float()\n",
    "y_test = torch.from_numpy(test_label).float()"
   ]
  },
  {
   "cell_type": "code",
   "execution_count": 4,
   "metadata": {},
   "outputs": [
    {
     "name": "stdout",
     "output_type": "stream",
     "text": [
      "Example of dataset: \n",
      "\n",
      "\n",
      "[[[ 5.48605805  4.4517016   4.09471132 ... -0.91535741 -3.20223105\n",
      "   -1.53627641]\n",
      "  [ 5.52571777  4.45307401  4.84520693 ... -6.9935455  -5.60505926\n",
      "   -1.15580007]]]\n"
     ]
    }
   ],
   "source": [
    "print (\"Example of dataset: \")\n",
    "print (\"\\n\")\n",
    "print (train_data[0])"
   ]
  },
  {
   "cell_type": "code",
   "execution_count": 5,
   "metadata": {},
   "outputs": [
    {
     "name": "stdout",
     "output_type": "stream",
     "text": [
      "1080 trials / 1 person / 2 hands / 750 with values\n"
     ]
    }
   ],
   "source": [
    "print (str(len(train_data))+\" trials / \"+str(len(train_data[0]))+\\\n",
    "       \" person / \"+str(len(train_data[0][0]))+\" hands / \"+str(len(train_data[0][0][0]))+\" with values\")\n"
   ]
  },
  {
   "cell_type": "markdown",
   "metadata": {},
   "source": [
    "# EEGNet with ELU"
   ]
  },
  {
   "cell_type": "code",
   "execution_count": 6,
   "metadata": {},
   "outputs": [],
   "source": [
    "class EEGNet_ELU(nn.Module):\n",
    "    def __init__(self):\n",
    "        super(EEGNet_ELU, self).__init__()\n",
    "        # Layer 1 \n",
    "        self.firstconv = nn.Sequential(\n",
    "            nn.Conv2d(1, 16, kernel_size=(1, 51), stride=(1,1),padding = (0,25), bias=False),\n",
    "            nn.BatchNorm2d(16, eps=1e-05, momentum=0.1 , affine=True, track_running_stats=True))\n",
    "        \n",
    "        # Layer 2\n",
    "        self.depthwiseConv = nn.Sequential(\n",
    "            nn.Conv2d(16, 32, kernel_size=(2,1),stride=(1,1),groups=16,bias=False),\n",
    "            nn.BatchNorm2d(32, eps=1e-05, momentum=0.1, affine=True, track_running_stats=True),\n",
    "            nn.ELU(alpha=1.0),\n",
    "            nn.AvgPool2d(kernel_size=(1, 4), stride=(1, 4),padding=0),\n",
    "            nn.Dropout(p=0.25))\n",
    "        \n",
    "        # Layer 3\n",
    "        self.separableConv = nn.Sequential(\n",
    "            nn.Conv2d(32, 32, kernel_size=(1,15),stride=(1,1),padding=(0,7),bias=False),\n",
    "            nn.BatchNorm2d(32, eps=1e-05, momentum=0.1, affine=True, track_running_stats=True),\n",
    "            nn.ELU(alpha=1.0),\n",
    "            nn.AvgPool2d(kernel_size=(1, 8), stride=(1,8), padding=0),\n",
    "            nn.Dropout(p=0.25))\n",
    "        \n",
    "        # FC Layer\n",
    "        self.classify = nn.Sequential(\n",
    "            nn.Linear(in_features=736, out_features=1, bias=True),\n",
    "            )\n",
    "        \n",
    "\n",
    "    def forward(self, x):\n",
    "        # Layer 1\n",
    "        x = self.firstconv(x)\n",
    "        # Layer 2\n",
    "        x = self.depthwiseConv(x)\n",
    "        # Layer 3\n",
    "        x = self.separableConv(x)\n",
    "        \n",
    "        # FC Layer\n",
    "        x = x.view(x.size(0),-1)\n",
    "        x = self.classify(x)\n",
    "            \n",
    "        return x\n",
    "    \n",
    "    \n",
    "net_ELU = EEGNet_ELU()\n",
    "criterion = nn.CrossEntropyLoss()\n",
    "optimizer = torch.optim.Adam(net_ELU.parameters(), lr=1e-2)"
   ]
  },
  {
   "cell_type": "markdown",
   "metadata": {},
   "source": [
    "# EEGNet with ReLU"
   ]
  },
  {
   "cell_type": "code",
   "execution_count": 7,
   "metadata": {},
   "outputs": [],
   "source": [
    "class EEGNet_ReLU(nn.Module):\n",
    "    def __init__(self):\n",
    "        super(EEGNet_ReLU, self).__init__()\n",
    "        # Layer 1 \n",
    "        self.firstconv = nn.Sequential(\n",
    "            nn.Conv2d(1, 16, kernel_size=(1, 51), stride=(1,1),padding = (0,25), bias=False),\n",
    "            nn.BatchNorm2d(16, eps=1e-05, momentum=0.1 , affine=True, track_running_stats=True))\n",
    "        \n",
    "        # Layer 2\n",
    "        self.depthwiseConv = nn.Sequential(\n",
    "            nn.Conv2d(16, 32, kernel_size=(2,1),stride=(1,1),groups=16,bias=False),\n",
    "            nn.BatchNorm2d(32, eps=1e-05, momentum=0.1, affine=True, track_running_stats=True),\n",
    "            nn.ELU(alpha=1.0),\n",
    "            nn.AvgPool2d(kernel_size=(1, 4), stride=(1, 4),padding=0),\n",
    "            nn.Dropout(p=0.25))\n",
    "        \n",
    "        # Layer 3\n",
    "        self.separableConv = nn.Sequential(\n",
    "            nn.Conv2d(32, 32, kernel_size=(1,15),stride=(1,1),padding=(0,7),bias=False),\n",
    "            nn.BatchNorm2d(32, eps=1e-05, momentum=0.1, affine=True, track_running_stats=True),\n",
    "            nn.ELU(alpha=1.0),\n",
    "            nn.AvgPool2d(kernel_size=(1, 8), stride=(1,8), padding=0),\n",
    "            nn.Dropout(p=0.25))\n",
    "        \n",
    "        # FC Layer\n",
    "        self.classify = nn.Sequential(\n",
    "            nn.Linear(in_features=736, out_features=1, bias=True),\n",
    "            )\n",
    "        \n",
    "\n",
    "    def forward(self, x):\n",
    "        # Layer 1\n",
    "        x = self.firstconv(x)\n",
    "        # Layer 2\n",
    "        x = self.depthwiseConv(x)\n",
    "        # Layer 3\n",
    "        x = self.separableConv(x)\n",
    "        \n",
    "        # FC Layer\n",
    "        x = x.view(x.size(0),-1)\n",
    "        x = self.classify(x)\n",
    "            \n",
    "        return x\n",
    "    \n",
    "    \n",
    "net_ReLU = EEGNet_ReLU()\n",
    "criterion = nn.CrossEntropyLoss()\n",
    "optimizer = torch.optim.Adam(net_ReLU.parameters(), lr=1e-2)"
   ]
  },
  {
   "cell_type": "markdown",
   "metadata": {},
   "source": [
    "# EEGNet with LeakyReLU"
   ]
  },
  {
   "cell_type": "code",
   "execution_count": 8,
   "metadata": {},
   "outputs": [],
   "source": [
    "class EEGNet_LeakyReLU(nn.Module):\n",
    "    def __init__(self):\n",
    "        super(EEGNet_LeakyReLU, self).__init__()\n",
    "        # Layer 1 \n",
    "        self.firstconv = nn.Sequential(\n",
    "            nn.Conv2d(1, 16, kernel_size=(1, 51), stride=(1,1),padding = (0,25), bias=False),\n",
    "            nn.BatchNorm2d(16, eps=1e-05, momentum=0.1 , affine=True, track_running_stats=True))\n",
    "        \n",
    "        # Layer 2\n",
    "        self.depthwiseConv = nn.Sequential(\n",
    "            nn.Conv2d(16, 32, kernel_size=(2,1),stride=(1,1),groups=16,bias=False),\n",
    "            nn.BatchNorm2d(32, eps=1e-05, momentum=0.1, affine=True, track_running_stats=True),\n",
    "            nn.ELU(alpha=1.0),\n",
    "            nn.AvgPool2d(kernel_size=(1, 4), stride=(1, 4),padding=0),\n",
    "            #每條NN會0.25機率變0\n",
    "            nn.Dropout(p=0.25))\n",
    "        \n",
    "        # Layer 3\n",
    "        self.separableConv = nn.Sequential(\n",
    "            nn.Conv2d(32, 32, kernel_size=(1,15),stride=(1,1),padding=(0,7),bias=False),\n",
    "            nn.BatchNorm2d(32, eps=1e-05, momentum=0.1, affine=True, track_running_stats=True),\n",
    "            nn.ELU(alpha=1.0),\n",
    "            nn.AvgPool2d(kernel_size=(1, 8), stride=(1,8), padding=0),\n",
    "            nn.Dropout(p=0.25))\n",
    "        \n",
    "        # FC Layer\n",
    "        self.classify = nn.Sequential(\n",
    "            nn.Linear(in_features=736, out_features=1, bias=True),\n",
    "            )\n",
    "        \n",
    "\n",
    "    def forward(self, x):\n",
    "        # Layer 1\n",
    "        x = self.firstconv(x)\n",
    "        # Layer 2\n",
    "        x = self.depthwiseConv(x)\n",
    "        # Layer 3\n",
    "        x = self.separableConv(x)\n",
    "        \n",
    "        # FC Layer\n",
    "        x = x.view(x.size(0),-1)\n",
    "        x = self.classify(x)\n",
    "            \n",
    "        return x\n",
    "    \n",
    "    \n",
    "net_LeakyReLU = EEGNet_LeakyReLU()\n",
    "criterion = nn.CrossEntropyLoss()\n",
    "optimizer = torch.optim.Adam(net_LeakyReLU.parameters(), lr=1e-2)"
   ]
  },
  {
   "cell_type": "code",
   "execution_count": 9,
   "metadata": {},
   "outputs": [],
   "source": [
    "def backward(net, x, y):\n",
    "        running_loss = 0.0\n",
    "        batch_size = 32\n",
    "        for i in range(int(len(x)/batch_size)):\n",
    "            s = i * batch_size\n",
    "            e = i * batch_size + batch_size\n",
    "\n",
    "            inputs = x[s:e]\n",
    "            labels = y[s:e]\n",
    "\n",
    "\n",
    "            inputs, labels = Variable(inputs), Variable(labels)\n",
    "            optimizer.zero_grad()\n",
    "\n",
    "            outputs = net(inputs)\n",
    "            loss = nn.MSELoss()\n",
    "\n",
    "            output = loss(outputs, labels)\n",
    "            output.backward()\n",
    "\n",
    "            optimizer.step()\n",
    "\n",
    "            running_loss = running_loss + output.data\n",
    "        \n",
    "        return net.forward(x)\n",
    "            \n",
    "def train(net, x, y):\n",
    "        backward(net, x, y)\n",
    "        outputs = backward(net, x, y)\n",
    "        return outputs\n",
    "    "
   ]
  },
  {
   "cell_type": "markdown",
   "metadata": {},
   "source": [
    "# 訓練model (ReLU) train data"
   ]
  },
  {
   "cell_type": "code",
   "execution_count": 10,
   "metadata": {},
   "outputs": [
    {
     "name": "stdout",
     "output_type": "stream",
     "text": [
      "Epoch is:  0\n",
      "ACC is:  0.4981481481481482\n",
      "Epoch is:  1\n",
      "ACC is:  0.49722222222222223\n",
      "Epoch is:  2\n",
      "ACC is:  0.5018518518518519\n",
      "Epoch is:  3\n",
      "ACC is:  0.5027777777777778\n",
      "Epoch is:  4\n",
      "ACC is:  0.49537037037037035\n",
      "Epoch is:  5\n",
      "ACC is:  0.49537037037037035\n",
      "Epoch is:  6\n",
      "ACC is:  0.49166666666666664\n",
      "Epoch is:  7\n",
      "ACC is:  0.4981481481481482\n",
      "Epoch is:  8\n",
      "ACC is:  0.49722222222222223\n",
      "Epoch is:  9\n",
      "ACC is:  0.4935185185185185\n",
      "Epoch is:  10\n",
      "ACC is:  0.4888888888888889\n"
     ]
    }
   ],
   "source": [
    "relu_epoch_result_to_plot = []\n",
    "relu_acc_result_to_plot_train = []\n",
    "for epoch in range(11):  # loop over the dataset multiple times\n",
    "            \n",
    "        result = train(net_ReLU,X_train,y_train)\n",
    "        \n",
    "        if epoch%1 == 0:\n",
    "            print (\"Epoch is: \", epoch)\n",
    "            relu_epoch_result_to_plot.append(epoch)\n",
    "            ACC = accuracy_score(y_train, np.round(result.data))\n",
    "            print (\"ACC is: \", ACC)\n",
    "            relu_acc_result_to_plot_train.append(ACC)"
   ]
  },
  {
   "cell_type": "markdown",
   "metadata": {},
   "source": [
    "# 訓練model (ReLU) test data"
   ]
  },
  {
   "cell_type": "code",
   "execution_count": 11,
   "metadata": {},
   "outputs": [
    {
     "name": "stdout",
     "output_type": "stream",
     "text": [
      "Epoch is:  0\n",
      "ACC is:  0.49074074074074076\n",
      "Epoch is:  1\n",
      "ACC is:  0.5009259259259259\n",
      "Epoch is:  2\n",
      "ACC is:  0.4981481481481482\n",
      "Epoch is:  3\n",
      "ACC is:  0.5037037037037037\n",
      "Epoch is:  4\n",
      "ACC is:  0.49074074074074076\n",
      "Epoch is:  5\n",
      "ACC is:  0.5027777777777778\n",
      "Epoch is:  6\n",
      "ACC is:  0.5027777777777778\n",
      "Epoch is:  7\n",
      "ACC is:  0.5055555555555555\n",
      "Epoch is:  8\n",
      "ACC is:  0.5092592592592593\n",
      "Epoch is:  9\n",
      "ACC is:  0.49537037037037035\n",
      "Epoch is:  10\n",
      "ACC is:  0.49074074074074076\n"
     ]
    }
   ],
   "source": [
    "relu_epoch_result_to_plot = []\n",
    "relu_acc_result_to_plot = []\n",
    "for epoch in range(11):  # loop over the dataset multiple times\n",
    "            \n",
    "        result = train(net_ReLU,X_test,y_test)\n",
    "        \n",
    "        if epoch%1 == 0:\n",
    "            print (\"Epoch is: \", epoch)\n",
    "            relu_epoch_result_to_plot.append(epoch)\n",
    "            ACC = accuracy_score(y_test, np.round(result.data))\n",
    "            print (\"ACC is: \", ACC)\n",
    "            relu_acc_result_to_plot.append(ACC)"
   ]
  },
  {
   "cell_type": "markdown",
   "metadata": {},
   "source": [
    "# 訓練model (LeakyReLU) train data"
   ]
  },
  {
   "cell_type": "code",
   "execution_count": 12,
   "metadata": {},
   "outputs": [
    {
     "name": "stdout",
     "output_type": "stream",
     "text": [
      "Epoch is:  0\n",
      "ACC is:  0.49166666666666664\n",
      "Epoch is:  1\n",
      "ACC is:  0.46944444444444444\n",
      "Epoch is:  2\n",
      "ACC is:  0.5009259259259259\n",
      "Epoch is:  3\n",
      "ACC is:  0.48703703703703705\n",
      "Epoch is:  4\n",
      "ACC is:  0.4935185185185185\n",
      "Epoch is:  5\n",
      "ACC is:  0.5203703703703704\n",
      "Epoch is:  6\n",
      "ACC is:  0.5259259259259259\n",
      "Epoch is:  7\n",
      "ACC is:  0.5185185185185185\n",
      "Epoch is:  8\n",
      "ACC is:  0.5148148148148148\n",
      "Epoch is:  9\n",
      "ACC is:  0.5018518518518519\n",
      "Epoch is:  10\n",
      "ACC is:  0.5148148148148148\n"
     ]
    }
   ],
   "source": [
    "leakyrelu_epoch_result_to_plot = []\n",
    "leakyrelu_acc_result_to_plot_train = []\n",
    "for epoch in range(11):  # loop over the dataset multiple times\n",
    "            \n",
    "        result = train(net_LeakyReLU,X_train,y_train)\n",
    "        \n",
    "        if epoch%1 == 0:\n",
    "            print (\"Epoch is: \", epoch)\n",
    "            leakyrelu_epoch_result_to_plot.append(epoch)\n",
    "            ACC = accuracy_score(y_train, np.round(result.data))\n",
    "            print (\"ACC is: \", ACC)\n",
    "            leakyrelu_acc_result_to_plot_train.append(ACC)"
   ]
  },
  {
   "cell_type": "markdown",
   "metadata": {},
   "source": [
    "# 訓練model (LeakyReLU) test data"
   ]
  },
  {
   "cell_type": "code",
   "execution_count": 13,
   "metadata": {},
   "outputs": [
    {
     "name": "stdout",
     "output_type": "stream",
     "text": [
      "Epoch is:  0\n",
      "ACC is:  0.562037037037037\n",
      "Epoch is:  1\n",
      "ACC is:  0.5777777777777777\n",
      "Epoch is:  2\n",
      "ACC is:  0.5685185185185185\n",
      "Epoch is:  3\n",
      "ACC is:  0.5333333333333333\n",
      "Epoch is:  4\n",
      "ACC is:  0.5611111111111111\n",
      "Epoch is:  5\n",
      "ACC is:  0.562962962962963\n",
      "Epoch is:  6\n",
      "ACC is:  0.5296296296296297\n",
      "Epoch is:  7\n",
      "ACC is:  0.5546296296296296\n",
      "Epoch is:  8\n",
      "ACC is:  0.5444444444444444\n",
      "Epoch is:  9\n",
      "ACC is:  0.55\n",
      "Epoch is:  10\n",
      "ACC is:  0.5333333333333333\n"
     ]
    }
   ],
   "source": [
    "leakyrelu_epoch_result_to_plot = []\n",
    "leakyrelu_acc_result_to_plot = []\n",
    "for epoch in range(11):  # loop over the dataset multiple times\n",
    "            \n",
    "        result = train(net_LeakyReLU,X_test,y_test)\n",
    "        \n",
    "        if epoch%1 == 0:\n",
    "            print (\"Epoch is: \", epoch)\n",
    "            leakyrelu_epoch_result_to_plot.append(epoch)\n",
    "            ACC = accuracy_score(y_test, np.round(result.data))\n",
    "            print (\"ACC is: \", ACC)\n",
    "            leakyrelu_acc_result_to_plot.append(ACC)"
   ]
  },
  {
   "cell_type": "markdown",
   "metadata": {},
   "source": [
    "# 訓練model (ELU) train data"
   ]
  },
  {
   "cell_type": "code",
   "execution_count": 14,
   "metadata": {},
   "outputs": [
    {
     "name": "stdout",
     "output_type": "stream",
     "text": [
      "Epoch is:  0\n",
      "ACC is:  0.5009259259259259\n",
      "Epoch is:  1\n",
      "ACC is:  0.5009259259259259\n",
      "Epoch is:  2\n",
      "ACC is:  0.5009259259259259\n",
      "Epoch is:  3\n",
      "ACC is:  0.49907407407407406\n",
      "Epoch is:  4\n",
      "ACC is:  0.49907407407407406\n",
      "Epoch is:  5\n",
      "ACC is:  0.5\n",
      "Epoch is:  6\n",
      "ACC is:  0.4981481481481482\n",
      "Epoch is:  7\n",
      "ACC is:  0.49907407407407406\n",
      "Epoch is:  8\n",
      "ACC is:  0.4981481481481482\n",
      "Epoch is:  9\n",
      "ACC is:  0.5\n",
      "Epoch is:  10\n",
      "ACC is:  0.4962962962962963\n"
     ]
    }
   ],
   "source": [
    "elu_epoch_result_to_plot = []\n",
    "elu_acc_result_to_plot_train = []\n",
    "for epoch in range(11):  # loop over the dataset multiple times\n",
    "            \n",
    "        result = train(net_ELU,X_train,y_train)\n",
    "        \n",
    "        if epoch%1 == 0:\n",
    "            print (\"Epoch is: \", epoch)\n",
    "            elu_epoch_result_to_plot.append(epoch)\n",
    "            ACC = accuracy_score(y_train, np.round(result.data))\n",
    "            print (\"ACC is: \", ACC)\n",
    "            elu_acc_result_to_plot_train.append(ACC)"
   ]
  },
  {
   "cell_type": "markdown",
   "metadata": {},
   "source": [
    "# 訓練model (ELU) test data"
   ]
  },
  {
   "cell_type": "code",
   "execution_count": 15,
   "metadata": {},
   "outputs": [
    {
     "name": "stdout",
     "output_type": "stream",
     "text": [
      "Epoch is:  0\n",
      "ACC is:  0.49722222222222223\n",
      "Epoch is:  1\n",
      "ACC is:  0.49722222222222223\n",
      "Epoch is:  2\n",
      "ACC is:  0.5\n",
      "Epoch is:  3\n",
      "ACC is:  0.4981481481481482\n",
      "Epoch is:  4\n",
      "ACC is:  0.5\n",
      "Epoch is:  5\n",
      "ACC is:  0.49907407407407406\n",
      "Epoch is:  6\n",
      "ACC is:  0.49722222222222223\n",
      "Epoch is:  7\n",
      "ACC is:  0.49907407407407406\n",
      "Epoch is:  8\n",
      "ACC is:  0.4981481481481482\n",
      "Epoch is:  9\n",
      "ACC is:  0.4962962962962963\n",
      "Epoch is:  10\n",
      "ACC is:  0.5\n"
     ]
    }
   ],
   "source": [
    "elu_epoch_result_to_plot = []\n",
    "elu_acc_result_to_plot = []\n",
    "for epoch in range(11):  # loop over the dataset multiple times\n",
    "            \n",
    "        result = train(net_ELU,X_test,y_test)\n",
    "        \n",
    "        if epoch%1 == 0:\n",
    "            print (\"Epoch is: \", epoch)\n",
    "            elu_epoch_result_to_plot.append(epoch)\n",
    "            ACC = accuracy_score(y_test, np.round(result.data))\n",
    "            print (\"ACC is: \", ACC)\n",
    "            elu_acc_result_to_plot.append(ACC)"
   ]
  },
  {
   "cell_type": "code",
   "execution_count": 17,
   "metadata": {},
   "outputs": [
    {
     "data": {
      "image/png": "[encoded data removed]",
      "text/plain": [
       "<Figure size 432x288 with 1 Axes>"
      ]
     },
     "metadata": {},
     "output_type": "display_data"
    }
   ],
   "source": [
    "import matplotlib as mpl\n",
    "import matplotlib.pyplot as plt\n",
    "\n",
    "plt.title('Activation function comparision(EEGNet )')\n",
    "plt.plot(relu_epoch_result_to_plot, relu_acc_result_to_plot, color='green', label='relu_test')\n",
    "plt.plot(relu_epoch_result_to_plot, relu_acc_result_to_plot_train, color='cyan', label='relu_train')\n",
    "plt.plot(leakyrelu_epoch_result_to_plot, leakyrelu_acc_result_to_plot,  color='skyblue', label='leaky_relu_test')\n",
    "plt.plot(leakyrelu_epoch_result_to_plot, leakyrelu_acc_result_to_plot_train,  color='blue', label='leaky_relu_train')\n",
    "plt.plot(elu_epoch_result_to_plot, elu_acc_result_to_plot, color='red', label='elu_test')\n",
    "plt.plot(elu_epoch_result_to_plot, elu_acc_result_to_plot_train, color='pink', label='elu_train')\n",
    "\n",
    "plt.legend() \n",
    "\n",
    "plt.xlabel('Epoch')\n",
    "plt.ylabel('Accuracy (%)')\n",
    "plt.show()\n"
   ]
  },
  {
   "cell_type": "code",
   "execution_count": null,
   "metadata": {},
   "outputs": [],
   "source": []
  }
 ],
 "metadata": {
  "kernelspec": {
   "display_name": "Python 3",
   "language": "python",
   "name": "python3"
  },
  "language_info": {
   "codemirror_mode": {
    "name": "ipython",
    "version": 3
   },
   "file_extension": ".py",
   "mimetype": "text/x-python",
   "name": "python",
   "nbconvert_exporter": "python",
   "pygments_lexer": "ipython3",
   "version": "3.6.5"
  }
 },
 "nbformat": 4,
 "nbformat_minor": 1
}
